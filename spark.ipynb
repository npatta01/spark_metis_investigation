{
 "cells": [
  {
   "cell_type": "markdown",
   "metadata": {},
   "source": [
    "# Imports"
   ]
  },
  {
   "cell_type": "code",
   "execution_count": 1,
   "metadata": {
    "collapsed": true
   },
   "outputs": [],
   "source": [
    "import json\n",
    "import re\n",
    "import sys\n",
    "reload(sys) \n",
    "sys.setdefaultencoding('UTF8')\n",
    "%matplotlib inline"
   ]
  },
  {
   "cell_type": "markdown",
   "metadata": {},
   "source": [
    "#Spark Context"
   ]
  },
  {
   "cell_type": "markdown",
   "metadata": {},
   "source": [
    "When spark is setup, a global variable sc (Spark Context) is available.     \n",
    "The Spark context will be connected to the spark cluster in the localhost"
   ]
  },
  {
   "cell_type": "code",
   "execution_count": 2,
   "metadata": {
    "collapsed": false
   },
   "outputs": [
    {
     "data": {
      "text/plain": [
       "<pyspark.context.SparkContext at 0xa76f4e0>"
      ]
     },
     "execution_count": 2,
     "metadata": {},
     "output_type": "execute_result"
    }
   ],
   "source": [
    "sc"
   ]
  },
  {
   "cell_type": "markdown",
   "metadata": {},
   "source": [
    "#Helper Functions "
   ]
  },
  {
   "cell_type": "code",
   "execution_count": 3,
   "metadata": {
    "collapsed": true
   },
   "outputs": [],
   "source": [
    "def filter_commit_events(content):\n",
    "    if re.match('.*\"type\":\"CommitCommentEvent\".*',content):\n",
    "        return True\n",
    "    else:\n",
    "        return False\n",
    "def parse_as_json(content):\n",
    "    return json.loads(content)\n",
    "\n",
    "def extract_comment(json_content):\n",
    "    return json_content[\"payload\"][\"comment\"][\"body\"]\n",
    "    \n",
    "def count_word_occurence(sentence):\n",
    "    words=sentence.strip().split(\" \")\n",
    "    for word in words:\n",
    "        yield (word,1)"
   ]
  },
  {
   "cell_type": "markdown",
   "metadata": {},
   "source": [
    "# Data Source"
   ]
  },
  {
   "cell_type": "markdown",
   "metadata": {},
   "source": [
    "Spark can use as a data source json, csv, folders containing json or csv, databases, distributed file systems (hdfs, amazon s3)"
   ]
  },
  {
   "cell_type": "code",
   "execution_count": 4,
   "metadata": {
    "collapsed": false
   },
   "outputs": [],
   "source": [
    "ls"
   ]
  },
  {
   "cell_type": "markdown",
   "metadata": {},
   "source": [
    "# Most common word in commit messages"
   ]
  },
  {
   "cell_type": "markdown",
   "metadata": {},
   "source": [
    "### Single File"
   ]
  },
  {
   "cell_type": "markdown",
   "metadata": {},
   "source": [
    "path of a single json gzip file"
   ]
  },
  {
   "cell_type": "code",
   "execution_count": 5,
   "metadata": {
    "collapsed": true
   },
   "outputs": [],
   "source": [
    "single_file_path='2015-01-01-0.json.gz'"
   ]
  },
  {
   "cell_type": "markdown",
   "metadata": {},
   "source": [
    "Create Reselient Distributed Dataset (RDD) from file"
   ]
  },
  {
   "cell_type": "code",
   "execution_count": 6,
   "metadata": {
    "collapsed": true
   },
   "outputs": [],
   "source": [
    "single_file_rdd = sc.textFile(single_file_path)"
   ]
  },
  {
   "cell_type": "code",
   "execution_count": 7,
   "metadata": {
    "collapsed": false
   },
   "outputs": [
    {
     "data": {
      "text/plain": [
       "[(u'the', 25),\n",
       " (u'this', 20),\n",
       " (u'be', 16),\n",
       " (u'to', 15),\n",
       " (u'a', 13),\n",
       " (u'is', 13),\n",
       " (u'in', 11),\n",
       " (u'Can', 10),\n",
       " (u'it', 10),\n",
       " (u'for', 10),\n",
       " (u'of', 10),\n",
       " (u'with', 10),\n",
       " (u'', 9),\n",
       " (u'I', 9),\n",
       " (u'repository', 9),\n",
       " (u'removed?', 8),\n",
       " (u'and', 7),\n",
       " (u'that', 6),\n",
       " (u'as', 6),\n",
       " (u'World', 5),\n",
       " (u'not', 5),\n",
       " (u'are', 5),\n",
       " (u'will', 5),\n",
       " (u'if', 5),\n",
       " (u'some', 5),\n",
       " (u'you', 5),\n",
       " (u'code', 4),\n",
       " (u'from', 4),\n",
       " (u'do', 4),\n",
       " (u'de', 4),\n",
       " (u'on', 4),\n",
       " (u'your', 4),\n",
       " (u'there', 4),\n",
       " (u'new', 3),\n",
       " (u'change', 3),\n",
       " (u'work', 3),\n",
       " (u'then', 3),\n",
       " (u'dan', 3),\n",
       " (u'issue', 3),\n",
       " (u'r+', 3),\n",
       " (u'methode', 3),\n",
       " (u'have', 3),\n",
       " (u'-', 3),\n",
       " (u'The', 3),\n",
       " (u'wordt', 3),\n",
       " (u'we', 3),\n",
       " (u'Could', 3),\n",
       " (u'je', 3),\n",
       " (u'just', 3),\n",
       " (u'tests', 3),\n",
       " (u'like', 3),\n",
       " (u'because', 3),\n",
       " (u'naar', 3),\n",
       " (u'van', 3),\n",
       " (u'but', 3),\n",
       " (u'an', 3),\n",
       " (u'at', 3),\n",
       " (u'Deze', 2),\n",
       " (u'LLVM', 2),\n",
       " (u'dit', 2),\n",
       " (u'use', 2),\n",
       " (u'or', 2),\n",
       " (u'only', 2),\n",
       " (u'started', 2),\n",
       " (u'ook', 2),\n",
       " (u'class.', 2),\n",
       " (u'1', 2),\n",
       " (u'better', 2),\n",
       " (u'association', 2),\n",
       " (u'directly', 2),\n",
       " (u'out', 2),\n",
       " (u'This', 2),\n",
       " (u'could', 2),\n",
       " (u'<a', 2),\n",
       " (u'one', 2),\n",
       " (u'\"2010-01-01', 2),\n",
       " (u'Main', 2),\n",
       " (u'=', 2),\n",
       " (u'kan', 2),\n",
       " (u'passed)\\n\\n<a', 2),\n",
       " (u'random', 2),\n",
       " (u'should', 2),\n",
       " (u'clang', 2),\n",
       " (u'stuff', 2),\n",
       " (u'see', 2),\n",
       " (u'seems', 2),\n",
       " (u'been', 2),\n",
       " (u\"That's\", 2),\n",
       " (u'these', 2),\n",
       " (u'You', 2),\n",
       " (u'make', 2),\n",
       " (u'Is', 2),\n",
       " (u'In', 2),\n",
       " (u'OK', 2),\n",
       " (u'back', 2),\n",
       " (u'would', 2),\n",
       " (u'old', 2),\n",
       " (u'het', 2),\n",
       " (u'was', 2),\n",
       " (u'really', 2),\n",
       " (u'all', 1),\n",
       " (u':)', 1),\n",
       " (u'`rubocop`', 1),\n",
       " (u'(World', 1),\n",
       " (u'SA-MP/GTA.', 1),\n",
       " (u'als', 1),\n",
       " (u'show', 1),\n",
       " (u'http://buildbot.rust-lang.org/builders/auto-linux-64-x-android-t/builds/2930\\nexception:',\n",
       "  1),\n",
       " (u'post,', 1),\n",
       " (u\"href='https://nrel.github.io/OpenStudioBuildResults/OpenStudio-cf364e3beba32f85f179b1cbefa3bd51ed235a6d-i386-Windows-7-VisualStudio-12.html'>![Build\",\n",
       "  1),\n",
       " (u'Nice.', 1),\n",
       " (u'Now', 1),\n",
       " (u'string', 1),\n",
       " (u'yay).', 1),\n",
       " (u\"I'm\", 1),\n",
       " (u'JS', 1),\n",
       " (u'arrange', 1),\n",
       " (u'Just', 1),\n",
       " (u'commits..', 1),\n",
       " (u'i386-Windows-7-VisualStudio-12:', 1),\n",
       " (u'unintentionally.', 1),\n",
       " (u'leave', 1),\n",
       " (u'GitHub\\r\\n>', 1),\n",
       " (u'Badge](http://img.shields.io/badge/tests%20passed-99.26773455377574%25-yellow.svg)</a>',\n",
       "  1),\n",
       " (u'Ok,', 1),\n",
       " (u'portable', 1),\n",
       " (u'<notifications@github.com>\\r\\nwrote:\\r\\n\\r\\n>', 1),\n",
       " (u\"href='https://nrel.github.io/EnergyPlusBuildResults/EnergyPlus-a40b354aa1e0bd6d1ac618b389c979f2bcdba7f6-x86_64-MacOS-10.9-clang-Debug.html'>![Test\",\n",
       "  1),\n",
       " (u'obsolete', 1),\n",
       " (u'\\r\\n```java\\r\\nworld.draw(worldCanvas);\\r\\n```', 1),\n",
       " (u'second', 1),\n",
       " (u'toe.', 1),\n",
       " (u'that,', 1),\n",
       " (u'what', 1),\n",
       " (u'current', 1),\n",
       " (u'verplaatst:\\r\\n```java\\r\\npublic', 1),\n",
       " (u'version', 1),\n",
       " (u'method', 1),\n",
       " (u'r=nmatsakis', 1),\n",
       " (u'(1576', 1),\n",
       " (u'degree', 1),\n",
       " (u'pushing', 1),\n",
       " (u'witch', 1),\n",
       " (u'aanroep', 1),\n",
       " (u'/news/archive', 1),\n",
       " (u'appears', 1),\n",
       " (u'engine.', 1),\n",
       " (u'Tabs', 1),\n",
       " (u'createplayerpickup', 1),\n",
       " (u'old...\\r\\n>\\r\\n>', 1),\n",
       " (u'action', 1),\n",
       " (u'implement', 1),\n",
       " (u'mix', 1),\n",
       " (u'useful', 1),\n",
       " (u'case,', 1),\n",
       " (u'app', 1),\n",
       " (u'vim', 1),\n",
       " (u'`1`', 1),\n",
       " (u'put', 1),\n",
       " (u'api', 1),\n",
       " (u'r=aturon', 1),\n",
       " (u'working', 1),\n",
       " (u'ones?thanks', 1),\n",
       " (u'wondering', 1),\n",
       " (u'taken', 1),\n",
       " (u'type', 1),\n",
       " (u'used.', 1),\n",
       " (u'more', 1),\n",
       " (u'aware', 1),\n",
       " (u'(elainethale)', 1),\n",
       " (u'name:', 1),\n",
       " (u'sorry', 1),\n",
       " (u'Reactor', 1),\n",
       " (u'me', 1),\n",
       " (u\"`kotnetcli`.\\r\\n\\r\\nI've\", 1),\n",
       " (u'can', 1),\n",
       " (u'dedicated', 1),\n",
       " (u'`kotnetcli`.', 1),\n",
       " (u'(`uit_te_voeren_procedure`)\\r\\n-', 1),\n",
       " (u'purposes', 1),\n",
       " (u'start.js', 1),\n",
       " (u'@mwjames', 1),\n",
       " (u'something', 1),\n",
       " (u'want', 1),\n",
       " (u'huge', 1),\n",
       " (u'end', 1),\n",
       " (u'rather', 1),\n",
       " (u'`-i32:32:32`', 1),\n",
       " (u'gebruik', 1),\n",
       " (u'deserialize_rubycontinuousvariables', 1),\n",
       " (u'write', 1),\n",
       " (u'how', 1),\n",
       " (u'config', 1),\n",
       " (u'A', 1),\n",
       " (u'funny.', 1),\n",
       " (u'Communicator', 1),\n",
       " (u'`e-p:32:32-v128:32:128-n32-S128`', 1),\n",
       " (u'earlier', 1),\n",
       " (u'fromImage(BufferedImage', 1),\n",
       " (u'http://buildbot.rust-lang.org/builders/auto-win-64-nopt-t/builds/1432', 1),\n",
       " (u'<https://github.com/GoldenLions/GitHubScout/commit/f2c7da93b6607d2990335ad4c0b5f1b5c26f5a83#commitcomment-9130980>\\r\\n>',\n",
       "  1),\n",
       " (u'lines', 1),\n",
       " (u'django', 1),\n",
       " (u'so', 1),\n",
       " (u'1576', 1),\n",
       " (u\"that's\", 1),\n",
       " (u'help', 1),\n",
       " (u'ok?', 1),\n",
       " (u'Jan', 1),\n",
       " (u'offences', 1),\n",
       " (u'already', 1),\n",
       " (u'looks', 1),\n",
       " (u'before', 1),\n",
       " (u'writing', 1),\n",
       " (u'2015', 1),\n",
       " (u'main', 1),\n",
       " (u'it,', 1),\n",
       " (u'someone', 1),\n",
       " (u'(auto-save,', 1),\n",
       " (u'docs', 1),\n",
       " (u'break', 1),\n",
       " (u'mention', 1),\n",
       " (u'they', 1),\n",
       " (u'documented', 1),\n",
       " (u'now', 1),\n",
       " (u'year!', 1),\n",
       " (u'explicitly.\".', 1),\n",
       " (u'Canola', 1),\n",
       " (u'system,', 1),\n",
       " (u'drop', 1),\n",
       " (u'Agreed.', 1),\n",
       " (u'least)', 1),\n",
       " (u'[the', 1),\n",
       " (u'Thanks', 1),\n",
       " (u'http://buildbot.rust-lang.org/builders/auto-mac-32-opt/builds/2952\\nexception:',\n",
       "  1),\n",
       " (u'each', 1),\n",
       " (u'found', 1),\n",
       " (u'identifier', 1),\n",
       " (u'week', 1),\n",
       " (u'en', 1),\n",
       " (u'posts', 1),\n",
       " (u'http://buildbot.rust-lang.org/builders/auto-linux-32-nopt-t/builds/2937\\nexception:',\n",
       "  1),\n",
       " (u'body)\\r\\n```', 1),\n",
       " (u'World.java', 1),\n",
       " (u'static', 1),\n",
       " (u'decided,', 1),\n",
       " (u'our', 1),\n",
       " (u'Added', 1),\n",
       " (u'12:00:00', 1),\n",
       " (u'waar', 1),\n",
       " (u'reader', 1),\n",
       " (u\"href='https://nrel.github.io/OpenStudioBuildResults/OpenStudio-cf364e3beba32f85f179b1cbefa3bd51ed235a6d-i386-Windows-7-VisualStudio-12.html'>![Test\",\n",
       "  1),\n",
       " (u'tmpl', 1),\n",
       " (u'World.fromImage(image);\\r\\n```\\r\\n\\r\\nEn', 1),\n",
       " (u'after', 1),\n",
       " (u'http://buildbot.rust-lang.org/builders/auto-win-64-opt/builds/1441\\nexception:',\n",
       "  1),\n",
       " (u'quite', 1),\n",
       " (u'conflicts', 1),\n",
       " (u'plek', 1),\n",
       " (u're-structuring', 1),\n",
       " (u'start_time:', 1),\n",
       " (u'http://buildbot.rust-lang.org/builders/auto-linux-64-nopt-t/builds/2933\\nexception:',\n",
       "  1),\n",
       " (u'think', 1),\n",
       " (u'wiki', 1),\n",
       " (u'simplifies', 1),\n",
       " (u'simplified', 1),\n",
       " (u'another', 1),\n",
       " (u'release.', 1),\n",
       " (u'code.\\r\\n-', 1),\n",
       " (u\"doesn't\", 1),\n",
       " (u'service', 1),\n",
       " (u'Haha!', 1),\n",
       " (u'xD', 1),\n",
       " (u'needed', 1),\n",
       " (u'master', 1),\n",
       " (u'replace(TOKEN,', 1),\n",
       " (u'plugin](https://github.com/foosel/OctoPrint/wiki/Plugin:-Discovery#zeroconf-service-_octoprint_tcp).',\n",
       "  1),\n",
       " (u'releases', 1),\n",
       " (u'@kghbln', 1),\n",
       " (u'2:53', 1),\n",
       " (u'boring', 1),\n",
       " (u':tada:', 1),\n",
       " (u'`r`,', 1),\n",
       " (u'http://buildbot.rust-lang.org/builders/auto-win-32-opt/builds/2605\\nexception:',\n",
       "  1),\n",
       " (u'patch?', 1),\n",
       " (u'ran', 1),\n",
       " (u'Cherry', 1),\n",
       " (u'well,', 1),\n",
       " (u'well.', 1),\n",
       " (u'close', 1),\n",
       " (u'need', 1),\n",
       " (u'dataLayout', 1),\n",
       " (u'mij', 1),\n",
       " (u'tekent', 1),\n",
       " (u'late,', 1),\n",
       " (u'which', 1),\n",
       " (u'sure', 1),\n",
       " (u'track', 1),\n",
       " (u'Thu', 1),\n",
       " (u'most', 1),\n",
       " (u'why', 1),\n",
       " (u'`beeindig_sessie`', 1),\n",
       " (u'failure', 1),\n",
       " (u'UTC\",\\r\\n', 1),\n",
       " (u'something.', 1),\n",
       " (u'\\u2014\\r\\n>', 1),\n",
       " (u'lijkt', 1),\n",
       " (u'selection', 1),\n",
       " (u'i.p.', 1),\n",
       " (u'http://buildbot.rust-lang.org/builders/auto-linux-64-opt/builds/2940\\nexception:',\n",
       "  1),\n",
       " (u'spaces', 1),\n",
       " (u'niet', 1),\n",
       " (u'fine', 1),\n",
       " (u'hi.', 1),\n",
       " (u'>Date:', 1),\n",
       " (u'Dec', 1),\n",
       " (u'based', 1),\n",
       " (u'state', 1),\n",
       " (u'theme', 1),\n",
       " (u'going', 1),\n",
       " (u'typo.', 1),\n",
       " (u'hope', 1),\n",
       " (u'two?).', 1),\n",
       " (u'pass,', 1),\n",
       " (u'ones', 1),\n",
       " (u'please.', 1),\n",
       " (u'hij', 1),\n",
       " (u'Kahan', 1),\n",
       " (u'Subtitle', 1),\n",
       " (u'.\\r\\n>', 1),\n",
       " (u'to:\\r\\n\\r\\nSleep((usecs+999)/1000);\\r\\nreturn', 1),\n",
       " (u'Move', 1),\n",
       " (u'patch', 1),\n",
       " (u'\\r\\n```\\r\\n\\r\\nDe', 1),\n",
       " (u'fixed', 1),\n",
       " (u'steal', 1),\n",
       " (u'view', 1),\n",
       " (u'```ruby\\r\\nbody', 1),\n",
       " (u'acomment.', 1),\n",
       " (u'31,', 1),\n",
       " (u'Reply', 1),\n",
       " (u'PR', 1),\n",
       " (u'0;', 1),\n",
       " (u'review', 1),\n",
       " (u'please', 1),\n",
       " (u'written', 1),\n",
       " (u\"there's\", 1),\n",
       " (u'\"yes\"', 1),\n",
       " (u'developer', 1),\n",
       " (u'email', 1),\n",
       " (u'man.', 1),\n",
       " (u'discovery', 1),\n",
       " (u'never', 1),\n",
       " (u'gross!', 1),\n",
       " (u'\"http://graph.facebook.com/omg\").to_return(body:', 1),\n",
       " (u'picking', 1),\n",
       " (u'pickup', 1),\n",
       " (u'Thats', 1),\n",
       " (u'logischer.', 1),\n",
       " (u'Main.java', 1),\n",
       " (u'http://buildbot.rust-lang.org/builders/auto-mac-64-nopt-t/builds/2947\\nexception:',\n",
       "  1),\n",
       " (u'let', 1),\n",
       " (u\"can't\", 1),\n",
       " (u'Het', 1),\n",
       " (u'simple', 1),\n",
       " (u'Sorry', 1),\n",
       " (u'[here](http://docs.octoprint.org/en/devel/api/apps.html).\\r\\n\\r\\nThe', 1),\n",
       " (u'now,', 1),\n",
       " (u'Sure', 1),\n",
       " (u'Wed,', 1),\n",
       " (u'summer.\\r\\n\\r\\nOn', 1),\n",
       " (u'x86_64-MacOS-10.9-clang-Debug:', 1),\n",
       " (u\"I've\", 1),\n",
       " (u'keys', 1),\n",
       " (u'assumed.', 1),\n",
       " (u'due', 1),\n",
       " (u'much', 1),\n",
       " (u'Heh,', 1),\n",
       " (u'dus', 1),\n",
       " (u'corresponding', 1),\n",
       " (u'(to', 1),\n",
       " (u'worker', 1),\n",
       " (u'commands', 1),\n",
       " (u'redundant.', 1),\n",
       " (u'`s.Stdin`.', 1),\n",
       " (u'2014', 1),\n",
       " (u'http://buildbot.rust-lang.org/builders/auto-linux-32-opt/builds/2938\\nexception:',\n",
       "  1),\n",
       " (u'requirejs?', 1),\n",
       " (u'single', 1),\n",
       " (u'value', 1),\n",
       " (u'{\\r\\n', 1),\n",
       " (u'erros', 1),\n",
       " (u'fun', 1),\n",
       " (u'failed:\\nfailure:', 1),\n",
       " (u'over.', 1),\n",
       " (u'played', 1),\n",
       " (u'triple', 1),\n",
       " (u'confirmed', 1),\n",
       " (u'perform', 1),\n",
       " (u'things', 1),\n",
       " (u'00:00:00', 1),\n",
       " (u'(why', 1),\n",
       " (u'p=1', 1),\n",
       " (u'p=2', 1),\n",
       " (u'sofancy\\u2122!', 1),\n",
       " (u'status', 1),\n",
       " (u'oil', 1),\n",
       " (u'HPP', 1),\n",
       " (u'necessity', 1),\n",
       " (u\"href='https://nrel.github.io/EnergyPlusBuildResults/EnergyPlus-a40b354aa1e0bd6d1ac618b389c979f2bcdba7f6-x86_64-MacOS-10.9-clang-Debug.html'>![Build\",\n",
       "  1),\n",
       " (u'UTC\"', 1),\n",
       " (u'older', 1),\n",
       " (u'regretting', 1),\n",
       " (u'solve', 1),\n",
       " (u'If', 1),\n",
       " (u'Badge](http://img.shields.io/badge/tests%20passed-100.0%25-green.svg)</a>',\n",
       "  1),\n",
       " (u'being', 1),\n",
       " (u'Badge](http://img.shields.io/badge/build%20status-warnings-yellow.svg)</a>',\n",
       "  1),\n",
       " (u'alignment', 1),\n",
       " (u'Happy', 1),\n",
       " (u'adding', 1),\n",
       " (u'also', 1),\n",
       " (u'possible.', 1),\n",
       " (u'had', 1),\n",
       " (u'4', 1),\n",
       " (u'size.', 1),\n",
       " (u'reverted', 1),\n",
       " (u'entirely.', 1),\n",
       " (u'format', 1),\n",
       " (u'big', 1),\n",
       " (u'8D13C89320FF59998C2457EB21D5174FAB6B854D15576B4085305BA3F85C2D5F', 1),\n",
       " (u'using', 1),\n",
       " (u'bit', 1),\n",
       " (u'replace', 1),\n",
       " (u'sorting', 1),\n",
       " (u'\"\")', 1),\n",
       " (u'success', 1),\n",
       " (u'Also', 1),\n",
       " (u'13:00:00', 1),\n",
       " (u'Hack', 1),\n",
       " (u'page', 1),\n",
       " (u'end_time:', 1),\n",
       " (u'i64', 1),\n",
       " (u'tedious.', 1),\n",
       " (u'New', 1),\n",
       " (u'tooltip', 1),\n",
       " (u'VarHPWH', 1),\n",
       " (u'does', 1),\n",
       " (u'eliminate', 1),\n",
       " (u'`eventSamenvattingGeven`', 1),\n",
       " (u'?', 1),\n",
       " (u'image)', 1),\n",
       " (u'restructuring', 1),\n",
       " (u\"moment.We'll\", 1),\n",
       " (u'xbian-package-config-shell?', 1),\n",
       " (u'about', 1),\n",
       " (u':-)', 1),\n",
       " (u'+0100\\r\\nNot', 1),\n",
       " (u'\"event\",\\r\\n', 1),\n",
       " (u'@ahungry', 1),\n",
       " (u'(shenb)', 1),\n",
       " (u'together', 1),\n",
       " (u'commit', 1),\n",
       " (u'introduced', 1),\n",
       " (u'cherry-picked', 1),\n",
       " (u'out.', 1),\n",
       " (u'op', 1),\n",
       " (u'Zoli', 1),\n",
       " (u'YSF,', 1),\n",
       " (u'rebasing', 1),\n",
       " (u'into', 1),\n",
       " (u'code!', 1),\n",
       " (u'notification,', 1),\n",
       " (u'But', 1),\n",
       " (u'syntastic', 1),\n",
       " (u'http://buildbot.rust-lang.org/builders/auto-mac-64-opt/builds/2946\\nexception:',\n",
       "  1),\n",
       " (u'area', 1),\n",
       " (u'start', 1),\n",
       " (u'Main).', 1),\n",
       " (u'way', 1),\n",
       " (u'enough', 1),\n",
       " (u'(2169', 1),\n",
       " (u'`_octoprint._tcp`', 1),\n",
       " (u'`0`', 1),\n",
       " (u'link', 1),\n",
       " (u'2185', 1),\n",
       " (u'Error', 1),\n",
       " (u'PM,', 1),\n",
       " (u'line', 1),\n",
       " (u'removed', 1),\n",
       " (u'bug', 1),\n",
       " (u'\\r\\n\\r\\nHappy', 1),\n",
       " (u'\"Programs', 1),\n",
       " (u'us', 1),\n",
       " (u'dan:\\r\\n```java\\r\\nworld', 1),\n",
       " (u'agree', 1),\n",
       " (u'Badge](http://img.shields.io/badge/build%20status-passing-green.svg)</a>',\n",
       "  1),\n",
       " (u'Omdat', 1),\n",
       " (u'am', 1),\n",
       " (u'To', 1),\n",
       " (u'file', 1),\n",
       " (u'shit', 1),\n",
       " (u'codes', 1),\n",
       " (u'no', 1),\n",
       " (u'amounts', 1),\n",
       " (u'fixing', 1),\n",
       " (u'when', 1),\n",
       " (u'maakt.', 1),\n",
       " (u'non-maintained', 1),\n",
       " (u'Running', 1),\n",
       " (u'compares', 1),\n",
       " (u'odd.', 1),\n",
       " (u'llvm', 1),\n",
       " (u'separate', 1),\n",
       " (u'\\r\\n}.to_json\\r\\nstub_request(:get,', 1),\n",
       " (u'http://buildbot.rust-lang.org/builders/auto-win-32-nopt-t/builds/2602\\nexception:',\n",
       "  1),\n",
       " (u'chance', 1),\n",
       " (u'useconds_t', 1),\n",
       " (u'function?', 1),\n",
       " (u'Well,', 1),\n",
       " (u'Rythal', 1),\n",
       " (u'Year', 1),\n",
       " (u'code.', 1)]"
      ]
     },
     "execution_count": 7,
     "metadata": {},
     "output_type": "execute_result"
    }
   ],
   "source": [
    "(single_file_rdd\n",
    " .filter(filter_commit_events) # only get commit events\n",
    " .map(parse_as_json) # convert string to json\n",
    " .map(extract_comment) # extract the comments body\n",
    " .flatMap(count_word_occurence) # gets a list of tuple (word,word_count) but flattens it\n",
    " .reduceByKey(lambda wcount_1,wcount_2: wcount_1+wcount_2) # for elements with the same key, add value\n",
    " .sortBy(lambda (word,count): count, ascending= False) # sort by word count in descending order\n",
    " .collect() # return all the results\n",
    ")"
   ]
  },
  {
   "cell_type": "markdown",
   "metadata": {},
   "source": [
    "### Multiple Files in same folder"
   ]
  },
  {
   "cell_type": "code",
   "execution_count": 8,
   "metadata": {
    "collapsed": false,
    "scrolled": true
   },
   "outputs": [],
   "source": [
    "multiple_file_rdd = sc.textFile('*.json.gz')\n"
   ]
  },
  {
   "cell_type": "code",
   "execution_count": 9,
   "metadata": {
    "collapsed": false
   },
   "outputs": [
    {
     "data": {
      "text/plain": [
       "[(u'the', 60), (u'to', 33), (u'I', 29), (u'this', 28), (u'a', 27)]"
      ]
     },
     "execution_count": 9,
     "metadata": {},
     "output_type": "execute_result"
    }
   ],
   "source": [
    "(multiple_file_rdd\n",
    ".filter(filter_commit_events) # only get commit events\n",
    " .map(parse_as_json) # convert string to json\n",
    " .map(extract_comment) # extract the comments body\n",
    " .flatMap(count_word_occurence) # gets a list of tuple (word,word_count) but flattens it\n",
    " .reduceByKey(lambda wcount_1,wcount_2: wcount_1+wcount_2) # for elements with the same key, add value\n",
    " .sortBy(lambda (word,count): count, ascending= False) # sort by word count in descending order\n",
    " .take(5) #return the first 5\n",
    ")"
   ]
  },
  {
   "cell_type": "markdown",
   "metadata": {},
   "source": [
    "# Spark Sql"
   ]
  },
  {
   "cell_type": "markdown",
   "metadata": {},
   "source": [
    "When you prefer Dataframes !!!!      \n",
    "When you prefer sql      \n",
    "Exposes methods : filter, limit, select, agg"
   ]
  },
  {
   "cell_type": "markdown",
   "metadata": {},
   "source": [
    "## Setup"
   ]
  },
  {
   "cell_type": "markdown",
   "metadata": {},
   "source": [
    "obligatory import satements"
   ]
  },
  {
   "cell_type": "code",
   "execution_count": 10,
   "metadata": {
    "collapsed": false
   },
   "outputs": [],
   "source": [
    "from pyspark.sql import SQLContext\n",
    "from pyspark.sql.types import IntegerType\n",
    "from pyspark.sql.functions import UserDefinedFunction"
   ]
  },
  {
   "cell_type": "markdown",
   "metadata": {},
   "source": [
    "get the sql context"
   ]
  },
  {
   "cell_type": "code",
   "execution_count": 11,
   "metadata": {
    "collapsed": true
   },
   "outputs": [],
   "source": [
    "sqlContext = SQLContext(sc)"
   ]
  },
  {
   "cell_type": "markdown",
   "metadata": {},
   "source": [
    "user defined function to calculate length of a string"
   ]
  },
  {
   "cell_type": "code",
   "execution_count": 12,
   "metadata": {
    "collapsed": false
   },
   "outputs": [],
   "source": [
    "string_length_udf = UserDefinedFunction(lambda x: len(x), IntegerType())"
   ]
  },
  {
   "cell_type": "markdown",
   "metadata": {},
   "source": [
    "Tell spark that the file is json and to infer a schema\n"
   ]
  },
  {
   "cell_type": "code",
   "execution_count": 13,
   "metadata": {
    "collapsed": true
   },
   "outputs": [],
   "source": [
    "gh_as_json = sqlContext.jsonFile(single_file_path)"
   ]
  },
  {
   "cell_type": "code",
   "execution_count": 14,
   "metadata": {
    "collapsed": false
   },
   "outputs": [
    {
     "data": {
      "text/plain": [
       "DataFrame[actor: struct<avatar_url:string,gravatar_id:string,id:bigint,login:string,url:string>, created_at: string, id: string, org: struct<avatar_url:string,gravatar_id:string,id:bigint,login:string,url:string>, payload: struct<action:string,before:string,comment:struct<_links:struct<html:struct<href:string>,pull_request:struct<href:string>,self:struct<href:string>>,body:string,commit_id:string,created_at:string,diff_hunk:string,html_url:string,id:bigint,issue_url:string,line:bigint,original_commit_id:string,original_position:bigint,path:string,position:bigint,pull_request_url:string,updated_at:string,url:string,user:struct<avatar_url:string,events_url:string,followers_url:string,following_url:string,gists_url:string,gravatar_id:string,html_url:string,id:bigint,login:string,organizations_url:string,received_events_url:string,repos_url:string,site_admin:boolean,starred_url:string,subscriptions_url:string,type:string,url:string>>,commits:array<struct<author:struct<email:string,name:string>,distinct:boolean,message:string,sha:string,url:string>>,description:string,distinct_size:bigint,forkee:struct<archive_url:string,assignees_url:string,blobs_url:string,branches_url:string,clone_url:string,collaborators_url:string,comments_url:string,commits_url:string,compare_url:string,contents_url:string,contributors_url:string,created_at:string,default_branch:string,description:string,downloads_url:string,events_url:string,fork:boolean,forks:bigint,forks_count:bigint,forks_url:string,full_name:string,git_commits_url:string,git_refs_url:string,git_tags_url:string,git_url:string,has_downloads:boolean,has_issues:boolean,has_pages:boolean,has_wiki:boolean,homepage:string,hooks_url:string,html_url:string,id:bigint,issue_comment_url:string,issue_events_url:string,issues_url:string,keys_url:string,labels_url:string,language:string,languages_url:string,merges_url:string,milestones_url:string,mirror_url:string,name:string,notifications_url:string,open_issues:bigint,open_issues_count:bigint,owner:struct<avatar_url:string,events_url:string,followers_url:string,following_url:string,gists_url:string,gravatar_id:string,html_url:string,id:bigint,login:string,organizations_url:string,received_events_url:string,repos_url:string,site_admin:boolean,starred_url:string,subscriptions_url:string,type:string,url:string>,private:boolean,public:boolean,pulls_url:string,pushed_at:string,releases_url:string,size:bigint,ssh_url:string,stargazers_count:bigint,stargazers_url:string,statuses_url:string,subscribers_url:string,subscription_url:string,svn_url:string,tags_url:string,teams_url:string,trees_url:string,updated_at:string,url:string,watchers:bigint,watchers_count:bigint>,head:string,issue:struct<assignee:struct<avatar_url:string,events_url:string,followers_url:string,following_url:string,gists_url:string,gravatar_id:string,html_url:string,id:bigint,login:string,organizations_url:string,received_events_url:string,repos_url:string,site_admin:boolean,starred_url:string,subscriptions_url:string,type:string,url:string>,body:string,closed_at:string,comments:bigint,comments_url:string,created_at:string,events_url:string,html_url:string,id:bigint,labels:array<struct<color:string,name:string,url:string>>,labels_url:string,locked:boolean,milestone:struct<closed_at:string,closed_issues:bigint,created_at:string,creator:struct<avatar_url:string,events_url:string,followers_url:string,following_url:string,gists_url:string,gravatar_id:string,html_url:string,id:bigint,login:string,organizations_url:string,received_events_url:string,repos_url:string,site_admin:boolean,starred_url:string,subscriptions_url:string,type:string,url:string>,description:string,due_on:string,id:bigint,labels_url:string,number:bigint,open_issues:bigint,state:string,title:string,updated_at:string,url:string>,number:bigint,pull_request:struct<diff_url:string,html_url:string,patch_url:string,url:string>,state:string,title:string,updated_at:string,url:string,user:struct<avatar_url:string,events_url:string,followers_url:string,following_url:string,gists_url:string,gravatar_id:string,html_url:string,id:bigint,login:string,organizations_url:string,received_events_url:string,repos_url:string,site_admin:boolean,starred_url:string,subscriptions_url:string,type:string,url:string>>,master_branch:string,member:struct<avatar_url:string,events_url:string,followers_url:string,following_url:string,gists_url:string,gravatar_id:string,html_url:string,id:bigint,login:string,organizations_url:string,received_events_url:string,repos_url:string,site_admin:boolean,starred_url:string,subscriptions_url:string,type:string,url:string>,number:bigint,pages:array<struct<action:string,html_url:string,page_name:string,sha:string,summary:string,title:string>>,pull_request:struct<_links:struct<comments:struct<href:string>,commits:struct<href:string>,html:struct<href:string>,issue:struct<href:string>,review_comment:struct<href:string>,review_comments:struct<href:string>,self:struct<href:string>,statuses:struct<href:string>>,additions:bigint,assignee:struct<avatar_url:string,events_url:string,followers_url:string,following_url:string,gists_url:string,gravatar_id:string,html_url:string,id:bigint,login:string,organizations_url:string,received_events_url:string,repos_url:string,site_admin:boolean,starred_url:string,subscriptions_url:string,type:string,url:string>,base:struct<label:string,ref:string,repo:struct<archive_url:string,assignees_url:string,blobs_url:string,branches_url:string,clone_url:string,collaborators_url:string,comments_url:string,commits_url:string,compare_url:string,contents_url:string,contributors_url:string,created_at:string,default_branch:string,description:string,downloads_url:string,events_url:string,fork:boolean,forks:bigint,forks_count:bigint,forks_url:string,full_name:string,git_commits_url:string,git_refs_url:string,git_tags_url:string,git_url:string,has_downloads:boolean,has_issues:boolean,has_pages:boolean,has_wiki:boolean,homepage:string,hooks_url:string,html_url:string,id:bigint,issue_comment_url:string,issue_events_url:string,issues_url:string,keys_url:string,labels_url:string,language:string,languages_url:string,merges_url:string,milestones_url:string,mirror_url:string,name:string,notifications_url:string,open_issues:bigint,open_issues_count:bigint,owner:struct<avatar_url:string,events_url:string,followers_url:string,following_url:string,gists_url:string,gravatar_id:string,html_url:string,id:bigint,login:string,organizations_url:string,received_events_url:string,repos_url:string,site_admin:boolean,starred_url:string,subscriptions_url:string,type:string,url:string>,private:boolean,pulls_url:string,pushed_at:string,releases_url:string,size:bigint,ssh_url:string,stargazers_count:bigint,stargazers_url:string,statuses_url:string,subscribers_url:string,subscription_url:string,svn_url:string,tags_url:string,teams_url:string,trees_url:string,updated_at:string,url:string,watchers:bigint,watchers_count:bigint>,sha:string,user:struct<avatar_url:string,events_url:string,followers_url:string,following_url:string,gists_url:string,gravatar_id:string,html_url:string,id:bigint,login:string,organizations_url:string,received_events_url:string,repos_url:string,site_admin:boolean,starred_url:string,subscriptions_url:string,type:string,url:string>>,body:string,changed_files:bigint,closed_at:string,comments:bigint,comments_url:string,commits:bigint,commits_url:string,created_at:string,deletions:bigint,diff_url:string,head:struct<label:string,ref:string,repo:struct<archive_url:string,assignees_url:string,blobs_url:string,branches_url:string,clone_url:string,collaborators_url:string,comments_url:string,commits_url:string,compare_url:string,contents_url:string,contributors_url:string,created_at:string,default_branch:string,description:string,downloads_url:string,events_url:string,fork:boolean,forks:bigint,forks_count:bigint,forks_url:string,full_name:string,git_commits_url:string,git_refs_url:string,git_tags_url:string,git_url:string,has_downloads:boolean,has_issues:boolean,has_pages:boolean,has_wiki:boolean,homepage:string,hooks_url:string,html_url:string,id:bigint,issue_comment_url:string,issue_events_url:string,issues_url:string,keys_url:string,labels_url:string,language:string,languages_url:string,merges_url:string,milestones_url:string,mirror_url:string,name:string,notifications_url:string,open_issues:bigint,open_issues_count:bigint,owner:struct<avatar_url:string,events_url:string,followers_url:string,following_url:string,gists_url:string,gravatar_id:string,html_url:string,id:bigint,login:string,organizations_url:string,received_events_url:string,repos_url:string,site_admin:boolean,starred_url:string,subscriptions_url:string,type:string,url:string>,private:boolean,pulls_url:string,pushed_at:string,releases_url:string,size:bigint,ssh_url:string,stargazers_count:bigint,stargazers_url:string,statuses_url:string,subscribers_url:string,subscription_url:string,svn_url:string,tags_url:string,teams_url:string,trees_url:string,updated_at:string,url:string,watchers:bigint,watchers_count:bigint>,sha:string,user:struct<avatar_url:string,events_url:string,followers_url:string,following_url:string,gists_url:string,gravatar_id:string,html_url:string,id:bigint,login:string,organizations_url:string,received_events_url:string,repos_url:string,site_admin:boolean,starred_url:string,subscriptions_url:string,type:string,url:string>>,html_url:string,id:bigint,issue_url:string,locked:boolean,merge_commit_sha:string,mergeable:boolean,mergeable_state:string,merged:boolean,merged_at:string,merged_by:struct<avatar_url:string,events_url:string,followers_url:string,following_url:string,gists_url:string,gravatar_id:string,html_url:string,id:bigint,login:string,organizations_url:string,received_events_url:string,repos_url:string,site_admin:boolean,starred_url:string,subscriptions_url:string,type:string,url:string>,milestone:struct<closed_at:string,closed_issues:bigint,created_at:string,creator:struct<avatar_url:string,events_url:string,followers_url:string,following_url:string,gists_url:string,gravatar_id:string,html_url:string,id:bigint,login:string,organizations_url:string,received_events_url:string,repos_url:string,site_admin:boolean,starred_url:string,subscriptions_url:string,type:string,url:string>,description:string,due_on:string,id:bigint,labels_url:string,number:bigint,open_issues:bigint,state:string,title:string,updated_at:string,url:string>,number:bigint,patch_url:string,review_comment_url:string,review_comments:bigint,review_comments_url:string,state:string,statuses_url:string,title:string,updated_at:string,url:string,user:struct<avatar_url:string,events_url:string,followers_url:string,following_url:string,gists_url:string,gravatar_id:string,html_url:string,id:bigint,login:string,organizations_url:string,received_events_url:string,repos_url:string,site_admin:boolean,starred_url:string,subscriptions_url:string,type:string,url:string>>,push_id:bigint,pusher_type:string,ref:string,ref_type:string,release:struct<assets:array<struct<browser_download_url:string,content_type:string,created_at:string,download_count:bigint,id:bigint,label:string,name:string,size:bigint,state:string,updated_at:string,uploader:struct<avatar_url:string,events_url:string,followers_url:string,following_url:string,gists_url:string,gravatar_id:string,html_url:string,id:bigint,login:string,organizations_url:string,received_events_url:string,repos_url:string,site_admin:boolean,starred_url:string,subscriptions_url:string,type:string,url:string>,url:string>>,assets_url:string,author:struct<avatar_url:string,events_url:string,followers_url:string,following_url:string,gists_url:string,gravatar_id:string,html_url:string,id:bigint,login:string,organizations_url:string,received_events_url:string,repos_url:string,site_admin:boolean,starred_url:string,subscriptions_url:string,type:string,url:string>,body:string,created_at:string,draft:boolean,html_url:string,id:bigint,name:string,prerelease:boolean,published_at:string,tag_name:string,tarball_url:string,target_commitish:string,upload_url:string,url:string,zipball_url:string>,size:bigint>, public: boolean, repo: struct<id:bigint,name:string,url:string>, type: string]"
      ]
     },
     "execution_count": 14,
     "metadata": {},
     "output_type": "execute_result"
    }
   ],
   "source": [
    "gh_as_json"
   ]
  },
  {
   "cell_type": "markdown",
   "metadata": {},
   "source": [
    "We have a dataframe with an api similar to pandas dataframe"
   ]
  },
  {
   "cell_type": "code",
   "execution_count": 16,
   "metadata": {
    "collapsed": false
   },
   "outputs": [
    {
     "data": {
      "text/html": [
       "<div>\n",
       "<table border=\"1\" class=\"dataframe\">\n",
       "  <thead>\n",
       "    <tr style=\"text-align: right;\">\n",
       "      <th></th>\n",
       "      <th>commit_length</th>\n",
       "      <th>id</th>\n",
       "    </tr>\n",
       "  </thead>\n",
       "  <tbody>\n",
       "    <tr>\n",
       "      <th>0</th>\n",
       "      <td>367</td>\n",
       "      <td>2489368705</td>\n",
       "    </tr>\n",
       "    <tr>\n",
       "      <th>1</th>\n",
       "      <td>86</td>\n",
       "      <td>2489371017</td>\n",
       "    </tr>\n",
       "    <tr>\n",
       "      <th>2</th>\n",
       "      <td>66</td>\n",
       "      <td>2489371910</td>\n",
       "    </tr>\n",
       "    <tr>\n",
       "      <th>3</th>\n",
       "      <td>62</td>\n",
       "      <td>2489371936</td>\n",
       "    </tr>\n",
       "    <tr>\n",
       "      <th>4</th>\n",
       "      <td>121</td>\n",
       "      <td>2489371981</td>\n",
       "    </tr>\n",
       "  </tbody>\n",
       "</table>\n",
       "</div>"
      ],
      "text/plain": [
       "   commit_length          id\n",
       "0            367  2489368705\n",
       "1             86  2489371017\n",
       "2             66  2489371910\n",
       "3             62  2489371936\n",
       "4            121  2489371981"
      ]
     },
     "execution_count": 16,
     "metadata": {},
     "output_type": "execute_result"
    }
   ],
   "source": [
    "(gh_as_json[gh_as_json.type=='CommitCommentEvent']  # filter event with type commit comment event\n",
    ".select(string_length_udf(gh_as_json.payload.comment.body).alias('commit_length'),'id') # get length of commit body and id\n",
    ".limit(5) # take top 5\n",
    ".toPandas()  )# convert to pandas"
   ]
  },
  {
   "cell_type": "markdown",
   "metadata": {},
   "source": [
    "Once it is converted to a dataframe, we can use the regular functions of a dataframe"
   ]
  },
  {
   "cell_type": "code",
   "execution_count": 17,
   "metadata": {
    "collapsed": false
   },
   "outputs": [
    {
     "data": {
      "text/plain": [
       "<matplotlib.axes._subplots.AxesSubplot at 0xc708438>"
      ]
     },
     "execution_count": 17,
     "metadata": {},
     "output_type": "execute_result"
    },
    {
     "data": {
      "image/png": "[encoded data removed]",
      "text/plain": [
       "<matplotlib.figure.Figure at 0xc708128>"
      ]
     },
     "metadata": {},
     "output_type": "display_data"
    }
   ],
   "source": [
    "gh_as_json[gh_as_json.type=='CommitCommentEvent'] \\\n",
    ".select(string_length_udf(gh_as_json.payload.comment.body).alias('commit_length'))\\\n",
    ".toPandas()\\\n",
    ".plot(kind='hist')"
   ]
  },
  {
   "cell_type": "code",
   "execution_count": null,
   "metadata": {
    "collapsed": true
   },
   "outputs": [],
   "source": []
  },
  {
   "cell_type": "code",
   "execution_count": null,
   "metadata": {
    "collapsed": true
   },
   "outputs": [],
   "source": []
  }
 ],
 "metadata": {
  "kernelspec": {
   "display_name": "Python 2",
   "language": "python",
   "name": "python2"
  },
  "language_info": {
   "codemirror_mode": {
    "name": "ipython",
    "version": 2
   },
   "file_extension": ".py",
   "mimetype": "text/x-python",
   "name": "python",
   "nbconvert_exporter": "python",
   "pygments_lexer": "ipython2",
   "version": "2.7.9"
  }
 },
 "nbformat": 4,
 "nbformat_minor": 0
}
